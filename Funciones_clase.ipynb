{
 "cells": [
  {
   "cell_type": "code",
   "execution_count": 11,
   "metadata": {},
   "outputs": [
    {
     "name": "stdout",
     "output_type": "stream",
     "text": [
      "[3, 6, 9, 12]\n"
     ]
    }
   ],
   "source": [
    "def multiplicar_lista(lista_numeros, n):\n",
    "    return [numero * n for numero in lista_numeros]\n",
    "\n",
    "# Prueba la función\n",
    "lista_numeros = [1, 2, 3, 4]\n",
    "resultado = multiplicar_lista(lista_numeros, 3)\n",
    "print(resultado)  # Output esperado: [3, 6, 9, 12]"
   ]
  },
  {
   "cell_type": "code",
   "execution_count": 12,
   "metadata": {},
   "outputs": [
    {
     "name": "stdout",
     "output_type": "stream",
     "text": [
      "6\n"
     ]
    }
   ],
   "source": [
    "def contar_vocales(cadena):\n",
    "    vocales = \"aeiouAEIOU\"  # Incluye vocales mayúsculas y minúsculas\n",
    "    contador = 0\n",
    "    for letra in cadena:\n",
    "        if letra in vocales:\n",
    "            contador += 1\n",
    "    return contador\n",
    "\n",
    "# Prueba la función\n",
    "resultado = contar_vocales(\"Python es divertido\")\n",
    "print(resultado)  # Output esperado: 6"
   ]
  },
  {
   "cell_type": "code",
   "execution_count": 36,
   "metadata": {},
   "outputs": [
    {
     "data": {
      "text/plain": [
       "14"
      ]
     },
     "execution_count": 36,
     "metadata": {},
     "output_type": "execute_result"
    }
   ],
   "source": [
    "contar_vocales(\"la clase de python es más dificil de lo pensado\")\n"
   ]
  },
  {
   "cell_type": "code",
   "execution_count": 15,
   "metadata": {},
   "outputs": [
    {
     "name": "stdout",
     "output_type": "stream",
     "text": [
      "[2, 4, 6, 8]\n",
      "20\n"
     ]
    }
   ],
   "source": [
    "def filtrar_pares(lista):\n",
    "    return [numeros for numeros in lista if numeros % 2 == 0]\n",
    "\n",
    "def sumar_lista(lista):\n",
    "    return sum(lista)\n",
    "\n",
    "# Prueba las funciones\n",
    "numeros = [1, 2, 3, 4, 5, 6, 7, 8]\n",
    "pares = filtrar_pares(numeros)\n",
    "suma_pares = sumar_lista(pares)\n",
    "print(pares)  # Output esperado: [2, 4, 6, 8]\n",
    "print(suma_pares)  # Output esperado: 20"
   ]
  },
  {
   "cell_type": "code",
   "execution_count": 17,
   "metadata": {},
   "outputs": [
    {
     "name": "stdout",
     "output_type": "stream",
     "text": [
      "50\n"
     ]
    }
   ],
   "source": [
    "def area_rectangulo(base, altura):\n",
    "    return base * altura\n",
    "\n",
    "area = area_rectangulo(10,5)\n",
    "print(area)"
   ]
  },
  {
   "cell_type": "code",
   "execution_count": 22,
   "metadata": {},
   "outputs": [
    {
     "name": "stdout",
     "output_type": "stream",
     "text": [
      "('Marta', 8.9)\n"
     ]
    }
   ],
   "source": [
    "def mejor_alumno(lista_alumnos):\n",
    "   return max(lista_alumnos)\n",
    "\n",
    "\n",
    "# Prueba la función\n",
    "alumnos = [(\"Ana\", 8.5), (\"Luis\", 7.2), (\"Jorge\", 9.1), (\"Marta\", 8.9)]\n",
    "mejor = mejor_alumno(alumnos)\n",
    "print(mejor)  # Output esperado: \"Jorge\""
   ]
  },
  {
   "cell_type": "code",
   "execution_count": 23,
   "metadata": {},
   "outputs": [
    {
     "name": "stdout",
     "output_type": "stream",
     "text": [
      "Jorge\n"
     ]
    }
   ],
   "source": [
    "def mejor_alumno(lista_alumnos):\n",
    "    max_calificacion = 0\n",
    "    nombre_mejor_alumno = \"\"\n",
    "    \n",
    "    for alumno in lista_alumnos:\n",
    "        nombre, calificacion = alumno\n",
    "        if calificacion > max_calificacion:\n",
    "            max_calificacion = calificacion\n",
    "            nombre_mejor_alumno = nombre\n",
    "    \n",
    "    return nombre_mejor_alumno\n",
    "\n",
    "# Prueba la función\n",
    "alumnos = [(\"Ana\", 8.5), (\"Luis\", 7.2), (\"Jorge\", 9.1), (\"Marta\", 8.9)] #lista de tuplas parentesis rectos con curvos\n",
    "mejor = mejor_alumno(alumnos)\n",
    "print(mejor)  # Output esperado: \"Jorge\""
   ]
  },
  {
   "cell_type": "code",
   "execution_count": 48,
   "metadata": {},
   "outputs": [
    {
     "name": "stdout",
     "output_type": "stream",
     "text": [
      "Los alumnos aprobados son ['Ana'])\n",
      "Los alumnos aprobados son ['Ana', 'Jorge'])\n",
      "['Ana', 'Jorge']\n"
     ]
    }
   ],
   "source": [
    "#5. Combinación de listas, condicionales y control de flujo\n",
    "\n",
    "def aprobar_alumnos(lista_alumnos):\n",
    "    lista_aprobados = []\n",
    "    for alumno, calificacion in lista_alumnos:\n",
    "        if calificacion >= 6:  # Usar >= para incluir a los que tienen 6\n",
    "            lista_aprobados.append(alumno)   # Añadir el nombre a la lista\n",
    "            print(f\"Los alumnos aprobados son {lista_aprobados})\")\n",
    "    return lista_aprobados\n",
    "\n",
    "# Prueba la función\n",
    "alumnos = [(\"Ana\", 8.5), (\"Luis\", 4.2), (\"Jorge\", 6.1), (\"Marta\", 5.9)]\n",
    "aprobados = aprobar_alumnos(alumnos)\n",
    "print(aprobados)  # Output esperado: [\"Ana\", \"Jorge\"]"
   ]
  },
  {
   "cell_type": "code",
   "execution_count": 47,
   "metadata": {},
   "outputs": [
    {
     "name": "stdout",
     "output_type": "stream",
     "text": [
      "Los alumnos aprobados son ['Ana'])\n",
      "Los alumnos aprobados son ['Ana', 'Jorge'])\n"
     ]
    },
    {
     "data": {
      "text/plain": [
       "['Ana', 'Jorge']"
      ]
     },
     "execution_count": 47,
     "metadata": {},
     "output_type": "execute_result"
    }
   ],
   "source": [
    "alumnos = [(\"Ana\", 8.5), (\"Luis\", 4.2), (\"Jorge\", 6.1), (\"Marta\", 5.9)]\n",
    "lista_aprobados = []\n",
    "for alumno, calificacion in alumnos:\n",
    "        if calificacion >= 6:  # Usar >= para incluir a los que tienen 6\n",
    "            lista_aprobados.append(alumno)   # Añadir el nombre a la lista\n",
    "            print(f\"Los alumnos aprobados son {lista_aprobados})\")\n",
    "lista_aprobados"
   ]
  },
  {
   "cell_type": "code",
   "execution_count": 35,
   "metadata": {},
   "outputs": [
    {
     "name": "stdout",
     "output_type": "stream",
     "text": [
      "Se han vendido 3 unidades de Laptop. Stock restante: 7\n",
      "No hay suficiente stock para completar la venta.\n"
     ]
    }
   ],
   "source": [
    "class Producto:\n",
    "    def __init__(self, nombre, precio, stock):\n",
    "        # Inicializa los atributos\n",
    "        self.nombre = nombre\n",
    "        self.precio = precio\n",
    "        self.stock = stock\n",
    "    \n",
    "    def vender(self, cantidad):\n",
    "        # Vende una cantidad del producto\n",
    "        if cantidad > self.stock:\n",
    "            print(\"No hay suficiente stock para completar la venta.\")\n",
    "        else:\n",
    "            self.stock -= cantidad\n",
    "            print(f\"Se han vendido {cantidad} unidades de {self.nombre}. Stock restante: {self.stock}\")\n",
    "\n",
    "# Prueba la clase\n",
    "producto1 = Producto(\"Laptop\", 1000, 10)\n",
    "producto1.vender(3)  # Debería disminuir el stock a 7\n",
    "producto1.vender(8)  # Debería mostrar un mensaje de stock insuficiente\n"
   ]
  },
  {
   "cell_type": "code",
   "execution_count": 52,
   "metadata": {},
   "outputs": [
    {
     "name": "stdout",
     "output_type": "stream",
     "text": [
      "120\n"
     ]
    }
   ],
   "source": [
    "#recursivo es que la función se llame a si misma\n",
    "#Una función recursiva es una función que se llama a sí misma para resolver un problema. La recursión se utiliza para dividir un problema en subproblemas más pequeños, hasta que se alcanza una condición base que termina la recursión. En el caso del cálculo del factorial, la condición base es cuando el número es 0 o 1 (ya que \n",
    "\n",
    "def factorial(n):\n",
    "    # Condición base\n",
    "    if n == 0 or n == 1:\n",
    "        return 1\n",
    "    # Llamada recursiva\n",
    "    return n * factorial(n - 1)\n",
    "\n",
    "# Prueba la función\n",
    "resultado = factorial(5)\n",
    "print(resultado)  # Output esperado: 120\n"
   ]
  }
 ],
 "metadata": {
  "kernelspec": {
   "display_name": "new_entorno",
   "language": "python",
   "name": "python3"
  },
  "language_info": {
   "codemirror_mode": {
    "name": "ipython",
    "version": 3
   },
   "file_extension": ".py",
   "mimetype": "text/x-python",
   "name": "python",
   "nbconvert_exporter": "python",
   "pygments_lexer": "ipython3",
   "version": "3.12.6"
  }
 },
 "nbformat": 4,
 "nbformat_minor": 2
}
