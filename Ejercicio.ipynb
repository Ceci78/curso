{
 "cells": [
  {
   "cell_type": "code",
   "execution_count": 3,
   "metadata": {},
   "outputs": [
    {
     "name": "stdout",
     "output_type": "stream",
     "text": [
      "[5, 10, 15, 20, 25, 30]\n"
     ]
    }
   ],
   "source": [
    "numeros = [5, 10, 15, 20, 25,30]\n",
    "print(numeros)"
   ]
  },
  {
   "cell_type": "code",
   "execution_count": 4,
   "metadata": {},
   "outputs": [
    {
     "name": "stdout",
     "output_type": "stream",
     "text": [
      "[5, 12, 15, 20, 25, 30]\n"
     ]
    }
   ],
   "source": [
    "#cambiar el segundo elemento de la lista a 12\n",
    "numeros[1] = 12\n",
    "print(numeros)"
   ]
  },
  {
   "cell_type": "code",
   "execution_count": 5,
   "metadata": {},
   "outputs": [
    {
     "name": "stdout",
     "output_type": "stream",
     "text": [
      "[5, 12, 15, 20, 25, 30, 35]\n"
     ]
    }
   ],
   "source": [
    "#agregar el numero 35 al final de la lista\n",
    "numeros.append(35)\n",
    "print(numeros)"
   ]
  },
  {
   "cell_type": "code",
   "execution_count": 6,
   "metadata": {},
   "outputs": [
    {
     "name": "stdout",
     "output_type": "stream",
     "text": [
      "[12, 15, 20, 25, 30, 35]\n"
     ]
    }
   ],
   "source": [
    "#eliminar el primer elemento de la lista\n",
    "numeros.remove(5)\n",
    "print(numeros)"
   ]
  },
  {
   "cell_type": "code",
   "execution_count": 7,
   "metadata": {},
   "outputs": [
    {
     "name": "stdout",
     "output_type": "stream",
     "text": [
      "24\n",
      "30\n",
      "40\n",
      "50\n",
      "60\n",
      "70\n"
     ]
    }
   ],
   "source": [
    "#utiliza un bucle for para imprimir cada número multiplicado por 2\n",
    "for num in numeros:\n",
    "    print(num * 2)"
   ]
  },
  {
   "cell_type": "code",
   "execution_count": 8,
   "metadata": {},
   "outputs": [
    {
     "name": "stdout",
     "output_type": "stream",
     "text": [
      "{'nombre': 'Ana', 'edad': 28, 'ciudad': 'Buenos Aires'}\n",
      "Ana\n",
      "{'nombre': 'Ana', 'edad': 28, 'ciudad': 'Buenos Aires', 'Profesion': 'Ingeniera'}\n",
      "{'nombre': 'Ana', 'edad': 29, 'ciudad': 'Buenos Aires', 'Profesion': 'Ingeniera'}\n"
     ]
    }
   ],
   "source": [
    "#Diccionarios y condicionales\n",
    "persona = {'nombre': 'Ana', 'edad': 28, 'ciudad': 'Buenos Aires'}\n",
    "print(persona)\n",
    "print(persona['nombre'])\n",
    "persona[\"Profesion\"] = \"Ingeniera\"\n",
    "print(persona)\n",
    "persona[\"edad\"] = 29\n",
    "print(persona)\n"
   ]
  },
  {
   "cell_type": "code",
   "execution_count": 9,
   "metadata": {},
   "outputs": [
    {
     "name": "stdout",
     "output_type": "stream",
     "text": [
      "Mayor a 18\n"
     ]
    }
   ],
   "source": [
    "\n",
    "\n",
    "if persona [\"edad\"] > 18:\n",
    "    print(\"Mayor a 18\")\n",
    "elif persona [\"edad\"] < 18:\n",
    "    print(\"Menor a 18\")"
   ]
  },
  {
   "cell_type": "code",
   "execution_count": 10,
   "metadata": {},
   "outputs": [
    {
     "name": "stdout",
     "output_type": "stream",
     "text": [
      "{1, 2, 3, 4, 5, 6, 7}\n"
     ]
    }
   ],
   "source": [
    "#Bucles while\n",
    "numeros_set = {1, 2, 3, 4, 5}\n",
    "numeros_set.add(6)\n",
    "numeros_set.add(7)\n",
    "print(numeros_set)\n"
   ]
  },
  {
   "cell_type": "code",
   "execution_count": 11,
   "metadata": {},
   "outputs": [
    {
     "name": "stdout",
     "output_type": "stream",
     "text": [
      "{1, 2, 3, 4, 5, 6, 7}\n"
     ]
    }
   ],
   "source": [
    "#numeros_set.remove(7)\n",
    "#print(numeros_set) \n",
    "\n",
    "numeros_set.add(7)\n",
    "print(numeros_set)\n"
   ]
  },
  {
   "cell_type": "code",
   "execution_count": 12,
   "metadata": {},
   "outputs": [
    {
     "data": {
      "text/plain": [
       "1"
      ]
     },
     "execution_count": 12,
     "metadata": {},
     "output_type": "execute_result"
    }
   ],
   "source": [
    "numeros_set.pop()"
   ]
  },
  {
   "cell_type": "code",
   "execution_count": 13,
   "metadata": {},
   "outputs": [
    {
     "name": "stdout",
     "output_type": "stream",
     "text": [
      "{2, 3, 4, 5, 6, 7}\n"
     ]
    }
   ],
   "source": [
    "print(numeros_set)"
   ]
  },
  {
   "cell_type": "code",
   "execution_count": 14,
   "metadata": {},
   "outputs": [
    {
     "name": "stdout",
     "output_type": "stream",
     "text": [
      "('rojo', 'verde', 'azul', 'amarillo')\n"
     ]
    }
   ],
   "source": [
    "### Ejercicio 4: Tuplas y ciclos `for`\n",
    "#Dada la siguiente tupla:\n",
    "colores = ('rojo', 'verde', 'azul', 'amarillo')\n",
    "print(colores)"
   ]
  },
  {
   "cell_type": "code",
   "execution_count": 15,
   "metadata": {},
   "outputs": [
    {
     "name": "stdout",
     "output_type": "stream",
     "text": [
      "rojo\n",
      "verde\n",
      "azul\n",
      "amarillo\n"
     ]
    }
   ],
   "source": [
    "for color in colores:\n",
    "    print(color)"
   ]
  },
  {
   "cell_type": "code",
   "execution_count": 16,
   "metadata": {},
   "outputs": [
    {
     "name": "stdout",
     "output_type": "stream",
     "text": [
      "('amarillo', 'azul', 'verde', 'rojo')\n"
     ]
    }
   ],
   "source": [
    "# Creamos una nueva tupla con los colores en orden inverso\n",
    "colores_inversos = colores[::-1]\n",
    "\n",
    "# Imprimimos la nueva tupla\n",
    "print(colores_inversos)"
   ]
  },
  {
   "cell_type": "code",
   "execution_count": 18,
   "metadata": {},
   "outputs": [
    {
     "name": "stdout",
     "output_type": "stream",
     "text": [
      "{3, 4, 5, 6, 7}\n",
      "{4, 5, 6, 7}\n",
      "{5, 6, 7}\n",
      "{6, 7}\n",
      "{7}\n",
      "set()\n"
     ]
    }
   ],
   "source": [
    "while len(numeros_set) > 0:\n",
    "    numeros_set.pop()\n",
    "    print(numeros_set)\n"
   ]
  },
  {
   "cell_type": "code",
   "execution_count": null,
   "metadata": {},
   "outputs": [],
   "source": [
    "### Ejercicio 5: Números y control de flujo\n"
   ]
  }
 ],
 "metadata": {
  "kernelspec": {
   "display_name": "nuevo_entono",
   "language": "python",
   "name": "python3"
  },
  "language_info": {
   "codemirror_mode": {
    "name": "ipython",
    "version": 3
   },
   "file_extension": ".py",
   "mimetype": "text/x-python",
   "name": "python",
   "nbconvert_exporter": "python",
   "pygments_lexer": "ipython3",
   "version": "3.12.6"
  }
 },
 "nbformat": 4,
 "nbformat_minor": 2
}
