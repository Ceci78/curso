{
 "cells": [
  {
   "cell_type": "code",
   "execution_count": 11,
   "metadata": {},
   "outputs": [
    {
     "name": "stdout",
     "output_type": "stream",
     "text": [
      "[3, 6, 9, 12]\n"
     ]
    }
   ],
   "source": [
    "def multiplicar_lista(lista_numeros, n):\n",
    "    return [numero * n for numero in lista_numeros]\n",
    "\n",
    "# Prueba la función\n",
    "lista_numeros = [1, 2, 3, 4]\n",
    "resultado = multiplicar_lista(lista_numeros, 3)\n",
    "print(resultado)  # Output esperado: [3, 6, 9, 12]"
   ]
  },
  {
   "cell_type": "code",
   "execution_count": 12,
   "metadata": {},
   "outputs": [
    {
     "name": "stdout",
     "output_type": "stream",
     "text": [
      "6\n"
     ]
    }
   ],
   "source": [
    "def contar_vocales(cadena):\n",
    "    vocales = \"aeiouAEIOU\"  # Incluye vocales mayúsculas y minúsculas\n",
    "    contador = 0\n",
    "    for letra in cadena:\n",
    "        if letra in vocales:\n",
    "            contador += 1\n",
    "    return contador\n",
    "\n",
    "# Prueba la función\n",
    "resultado = contar_vocales(\"Python es divertido\")\n",
    "print(resultado)  # Output esperado: 6"
   ]
  }
 ],
 "metadata": {
  "kernelspec": {
   "display_name": "new_entorno",
   "language": "python",
   "name": "python3"
  },
  "language_info": {
   "codemirror_mode": {
    "name": "ipython",
    "version": 3
   },
   "file_extension": ".py",
   "mimetype": "text/x-python",
   "name": "python",
   "nbconvert_exporter": "python",
   "pygments_lexer": "ipython3",
   "version": "3.12.6"
  }
 },
 "nbformat": 4,
 "nbformat_minor": 2
}
