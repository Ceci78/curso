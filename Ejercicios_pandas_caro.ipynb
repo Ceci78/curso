{
 "cells": [
  {
   "cell_type": "code",
   "execution_count": 72,
   "metadata": {},
   "outputs": [
    {
     "name": "stdout",
     "output_type": "stream",
     "text": [
      "lunes        100\n",
      "martes       150\n",
      "miercoles    200\n",
      "jueves        50\n",
      "viernes      300\n",
      "dtype: int64\n",
      "ventas día miércoles:  200\n",
      "Suma venta semanal:  800\n",
      "Días con ventas > a 100:  martes       150\n",
      "miercoles    200\n",
      "viernes      300\n",
      "dtype: int64\n"
     ]
    }
   ],
   "source": [
    "#ejercico 1\n",
    "#crear lista\n",
    "import pandas as pd\n",
    "\n",
    "lista = pd.Series({'lunes': 100, 'martes': 150, 'miercoles': 200, 'jueves': 50, 'viernes': 300})\n",
    "print(lista)\n",
    "\n",
    "#valor ventas miércoles\n",
    "print(\"ventas día miércoles: \", lista['miercoles'])\n",
    "\n",
    "#suma ventas\n",
    "print(\"Suma venta semanal: \", lista.sum())\n",
    "\n",
    "#ventas mayores a 100\n",
    "print(\"Días con ventas > a 100: \", lista[lista > 100])\n"
   ]
  },
  {
   "cell_type": "code",
   "execution_count": 75,
   "metadata": {},
   "outputs": [
    {
     "name": "stdout",
     "output_type": "stream",
     "text": [
      "   Edad Nombre\n",
      "0    23    Ana\n",
      "1    35   Luis\n",
      "2    29  María\n",
      "0      Ana\n",
      "1     Luis\n",
      "2    María\n",
      "Name: Nombre, dtype: object\n",
      "Edad >25:     Edad Nombre\n",
      "1    35   Luis\n",
      "2    29  María\n",
      "   Edad Nombre  Salario\n",
      "0    23    Ana    30000\n",
      "1    35   Luis    45000\n",
      "2    29  María    35000\n"
     ]
    }
   ],
   "source": [
    "#ejercico 2\n",
    "data = [[23, 'Ana'], [35, 'Luis'], [29, 'María']]\n",
    "df = pd.DataFrame(data, columns=['Edad', 'Nombre'])\n",
    "print(df)\n",
    "\n",
    "#Accede a la columna de los nombres.\n",
    "print(df['Nombre'])\n",
    "#edad mayor a 25\n",
    "print(\"Edad >25: \", df[df['Edad'] > 25])\n",
    "\n",
    "#Agrega columna salarios\n",
    "df['Salario'] = [30000, 45000, 35000]\n",
    "print(df)\n"
   ]
  },
  {
   "cell_type": "code",
   "execution_count": 36,
   "metadata": {},
   "outputs": [
    {
     "name": "stdout",
     "output_type": "stream",
     "text": [
      "  productos  ventas  precio\n",
      "0    laptop      30    1000\n",
      "1     mouse     120      50\n",
      "2   teclado      75      80\n",
      "  productos  ventas  precio  venta_total\n",
      "0    laptop      30    1000        30000\n",
      "1     mouse     120      50         6000\n",
      "2   teclado      75      80         6000\n",
      "Total de ingresos por ventas: 42000\n"
     ]
    }
   ],
   "source": [
    "#ejercicio 3\n",
    "#Productos: \"Laptop\", \"Mouse\", \"Teclado\"\n",
    "#Ventas: 30, 120, 75\n",
    "#Precio por unidad: 1000, 50, 80\n",
    "\n",
    "data = {'productos': ['laptop', 'mouse', 'teclado'], 'ventas': [30, 120, 75], 'precio': [1000, 50, 80]}\n",
    "df = pd.DataFrame(data)\n",
    "print(df)\n",
    "\n",
    "#venta total\n",
    "df['venta_total'] = df['ventas'] * df['precio']\n",
    "print(df)\n",
    "\n",
    "#total de ingresos \n",
    "total_ingresos = df['venta_total'].sum()\n",
    "print(\"Total de ingresos por ventas:\", total_ingresos)\n"
   ]
  },
  {
   "cell_type": "code",
   "execution_count": 63,
   "metadata": {},
   "outputs": [
    {
     "name": "stdout",
     "output_type": "stream",
     "text": [
      "  Estudiantes  Matemáticas  Ciencia  Historia\n",
      "0         Ana         90.0     88.0      75.0\n",
      "1        Luis         85.0     92.0       NaN\n",
      "2       María          NaN     85.0      80.0\n",
      "3      Carlos         78.0      NaN      90.0\n",
      "  Estudiantes  Matemáticas  Ciencia  Historia\n",
      "0         Ana         90.0     88.0      75.0\n",
      "1        Luis         85.0     92.0      81.7\n",
      "2       María         84.3     85.0      80.0\n",
      "3      Carlos         78.0     88.3      90.0\n",
      "  Estudiantes  Math  Science  History\n",
      "0         Ana  90.0     88.0     75.0\n",
      "1        Luis  85.0     92.0     81.7\n",
      "2       María  84.3     85.0     80.0\n",
      "3      Carlos  78.0     88.3     90.0\n",
      "  Estudiantes  Math  Science  History  nota_promedio\n",
      "0         Ana  90.0     88.0     75.0           84.3\n",
      "1        Luis  85.0     92.0     81.7           86.2\n",
      "2       María  84.3     85.0     80.0           83.1\n",
      "3      Carlos  78.0     88.3     90.0           85.4\n"
     ]
    }
   ],
   "source": [
    "#ejercicio 4\n",
    "#Crea un DataFrame con información de estudiantes y sus calificaciones en tres materias:\n",
    "#Estudiantes: \"Ana\", \"Luis\", \"María\", \"Carlos\"\n",
    "#Matemáticas: 90, 85, None, 78\n",
    "#Ciencia: 88, 92, 85, None\n",
    "#Historia: 75, None, 80, 90\n",
    "\n",
    "notas = {'Estudiantes': ['Ana', 'Luis', 'María', 'Carlos'], \n",
    "         'Matemáticas' : [90, 85, None, 78], \n",
    "         'Ciencia': [88, 92, 85, None], \n",
    "         'Historia': [75, None, 80, 90]}\n",
    "\n",
    "df = pd.DataFrame(notas)\n",
    "print(df)\n",
    "\n",
    "#Rellena los valores faltantes con la media de cada columna.\n",
    "#print(df['Matemáticas'].mean()) #84.3\n",
    "#print(df['Ciencia'].mean()) #88.3\n",
    "#print(df['Historia'].mean()) #81.7\n",
    "\n",
    "df = df.assign(\n",
    "    Matemáticas=df['Matemáticas'].fillna(round(df['Matemáticas'].mean(), 1)),\n",
    "    Ciencia=df['Ciencia'].fillna(round(df['Ciencia'].mean(), 1)),\n",
    "    Historia=df['Historia'].fillna(round(df['Historia'].mean(), 1))\n",
    ")\n",
    "\n",
    "print(df)\n",
    "\n",
    "#Renombra las columnas de las materias en inglés (Math, Science, History).\n",
    "df.rename(columns={'Matemáticas': 'Math', 'Ciencia': 'Science', 'Historia': 'History'}, inplace=True)\n",
    "print(df)\n",
    "\n",
    "#Calcula la calificación promedio de cada estudiante.\n",
    "df['nota_promedio'] = df[['Math', 'Science', 'History']].mean(axis=1).round(1)\n",
    "print(df)"
   ]
  }
 ],
 "metadata": {
  "kernelspec": {
   "display_name": "primer_entorno",
   "language": "python",
   "name": "python3"
  },
  "language_info": {
   "codemirror_mode": {
    "name": "ipython",
    "version": 3
   },
   "file_extension": ".py",
   "mimetype": "text/x-python",
   "name": "python",
   "nbconvert_exporter": "python",
   "pygments_lexer": "ipython3",
   "version": "3.12.6"
  },
  "orig_nbformat": 4
 },
 "nbformat": 4,
 "nbformat_minor": 2
}
