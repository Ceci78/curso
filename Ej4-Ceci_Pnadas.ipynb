{
 "cells": [
  {
   "cell_type": "code",
   "execution_count": 3,
   "metadata": {},
   "outputs": [
    {
     "name": "stdout",
     "output_type": "stream",
     "text": [
      "     Producto  Precio            Categoría\n",
      "0        Café     100    bebidas calientes\n",
      "1          té      80    bebidas calientes\n",
      "2   chocolate     150        snacks dulces\n",
      "3      Cacao      120   bebidas calientes \n"
     ]
    }
   ],
   "source": [
    "#Ejercicio 1: Limpiar y transformar columnas de texto\n",
    "import pandas as pd\n",
    "\n",
    "data = {\n",
    "    'Producto': ['Café', 'té', ' chocolate', ' Cacao '],\n",
    "    'Precio': [100, 80, 150, 120],\n",
    "    'Categoría': ['bebidas calientes', 'bebidas calientes', 'snacks dulces', ' bebidas calientes ']\n",
    "}\n",
    "\n",
    "df_productos = pd.DataFrame(data)\n",
    "print(df_productos)"
   ]
  },
  {
   "cell_type": "code",
   "execution_count": 9,
   "metadata": {},
   "outputs": [
    {
     "name": "stdout",
     "output_type": "stream",
     "text": [
      "    Producto  Precio            Categoría\n",
      "0       Café     100    BEBIDAS CALIENTES\n",
      "1         té      80    BEBIDAS CALIENTES\n",
      "2  chocolate     150              POSTRES\n",
      "3      Cacao     120   BEBIDAS CALIENTES \n",
      "    Producto  Precio            Categoría\n",
      "0       Café     100    BEBIDAS CALIENTES\n",
      "1         té      80    BEBIDAS CALIENTES\n",
      "2  chocolate     150              POSTRES\n",
      "3      Cacao     120   BEBIDAS CALIENTES \n",
      "    Producto  Precio            Categoría\n",
      "0       Café     100    BEBIDAS CALIENTES\n",
      "1         té      80    BEBIDAS CALIENTES\n",
      "2  chocolate     150              POSTRES\n",
      "3      Cacao     120   BEBIDAS CALIENTES \n",
      "    Producto  Precio            Categoría Mayor_120\n",
      "0       Café     100    BEBIDAS CALIENTES        No\n",
      "1         té      80    BEBIDAS CALIENTES        No\n",
      "2  chocolate     150              POSTRES        Sí\n",
      "3      Cacao     120   BEBIDAS CALIENTES         Sí\n"
     ]
    }
   ],
   "source": [
    "#Elimina los espacios en blanco de las columnas Producto.\n",
    "df_productos['Producto'] = df_productos['Producto'].str.replace(' ', '')\n",
    "print(df_productos)\n",
    "\n",
    "#Convierte todos los valores de la columna Categoría a mayúsculas.\n",
    "df_productos['Categoría'] = df_productos['Categoría'].str.upper()\n",
    "print(df_productos)\n",
    "\n",
    "#Reemplaza la categoría 'snacks dulces' por 'postres'.\n",
    "df_productos['Categoría'] = df_productos['Categoría'].replace('SNACKS DULCES', 'POSTRE')\n",
    "print(df_productos)\n",
    "\n",
    "#Crea una nueva columna que indique si el precio es mayor o igual a 120. Usa una función lambda para esto.\n",
    "df_productos['Mayor_120'] = df_productos['Precio'].apply(lambda x: 'Sí' if x >= 120 else 'No')\n",
    "print(df_productos)\n"
   ]
  },
  {
   "cell_type": "code",
   "execution_count": 11,
   "metadata": {},
   "outputs": [
    {
     "name": "stdout",
     "output_type": "stream",
     "text": [
      "  Nombre  Edad Departamento\n",
      "0    Ana  29.0       Ventas\n",
      "1   Luis  45.0     Finanzas\n",
      "2  Pedro   NaN         RRHH\n",
      "3   Luis  40.0     Finanzas\n",
      "4   Juan  35.0    Marketing\n",
      "5    Ana  29.0         None\n"
     ]
    }
   ],
   "source": [
    "#Ejercicio 2: Limpieza de duplicados y manejo de datos faltantes\n",
    "data_empleados = {\n",
    "    'Nombre': ['Ana', 'Luis', 'Pedro', 'Luis', 'Juan', 'Ana'],\n",
    "    'Edad': [29, 45, None, 40, 35, 29],\n",
    "    'Departamento': ['Ventas', 'Finanzas', 'RRHH', 'Finanzas', 'Marketing', None]\n",
    "}\n",
    "\n",
    "df_empleados = pd.DataFrame(data_empleados)\n",
    "print(df_empleados)"
   ]
  },
  {
   "cell_type": "code",
   "execution_count": 23,
   "metadata": {},
   "outputs": [
    {
     "name": "stdout",
     "output_type": "stream",
     "text": [
      "  Nombre  Edad Departamento\n",
      "0    Ana  29.0       Ventas\n",
      "4   Juan  35.0    Marketing\n",
      "3   Luis  40.0     Finanzas\n",
      "2  Pedro   NaN         RRHH\n",
      "  Nombre  Edad Departamento\n",
      "0    Ana  29.0       Ventas\n",
      "4   Juan  35.0    Marketing\n",
      "3   Luis  40.0     Finanzas\n",
      "2  Pedro  35.0         RRHH\n",
      "  Nombre  Edad Departamento\n",
      "0    Ana  29.0       Ventas\n",
      "1   Luis  45.0     Finanzas\n",
      "2  Pedro   NaN         RRHH\n",
      "3   Luis  40.0     Finanzas\n",
      "4   Juan  35.0    Marketing\n",
      "5    Ana  29.0  Desconocido\n",
      "  Nombre  Edad Departamento\n",
      "3   Luis  40.0     Finanzas\n",
      "4   Juan  35.0    Marketing\n",
      "2  Pedro  35.0         RRHH\n",
      "0    Ana  29.0       Ventas\n"
     ]
    },
    {
     "name": "stderr",
     "output_type": "stream",
     "text": [
      "C:\\Users\\ine\\AppData\\Local\\Temp\\ipykernel_23232\\2026315837.py:14: SettingWithCopyWarning: \n",
      "A value is trying to be set on a copy of a slice from a DataFrame.\n",
      "Try using .loc[row_indexer,col_indexer] = value instead\n",
      "\n",
      "See the caveats in the documentation: https://pandas.pydata.org/pandas-docs/stable/user_guide/indexing.html#returning-a-view-versus-a-copy\n",
      "  df_final['Edad'] = df_final['Edad'].fillna(media_edad)\n"
     ]
    }
   ],
   "source": [
    "# Ordenar por 'Nombre' y 'Edad' (en orden ascendente para quedarnos con la persona más joven)\n",
    "df_empleados_sorted = df_empleados.sort_values(by=['Nombre', 'Edad'])\n",
    "\n",
    "# Eliminar duplicados basados en 'Nombre', quedándonos con la primera aparición (la más joven)\n",
    "df_final = df_empleados_sorted.drop_duplicates(subset='Nombre', keep='first')\n",
    "\n",
    "# Imprimir el DataFrame final\n",
    "print(df_final)\n",
    "\n",
    "#Llena los valores faltantes de la columna Edad con la media de las edades.\n",
    "media_edad = int(df_empleados['Edad'].mean())  #encontré que con un parentesis al final convierte la media a entero\n",
    "\n",
    "# Llenar los valores faltantes de la columna 'Edad' con la media calculada\n",
    "df_final['Edad'] = df_final['Edad'].fillna(media_edad)\n",
    "\n",
    "# Imprimir el DataFrame actualizado\n",
    "print(df_final)\n",
    "\n",
    "#Llena los valores faltantes de la columna Departamento con el valor 'Desconocido'.\n",
    "df_empleados['Departamento'] = df_empleados['Departamento'].fillna('Desconocido')\n",
    "print(df_empleados)\n",
    "\n",
    "#Ordena el DataFrame por edad de forma descendente.\n",
    "df_final= df_final.sort_values(by='Edad', ascending=False)\n",
    "print(df_final)\n"
   ]
  },
  {
   "cell_type": "code",
   "execution_count": 27,
   "metadata": {},
   "outputs": [
    {
     "name": "stdout",
     "output_type": "stream",
     "text": [
      "  Producto  Precio  Cantidad  Total Ventas\n",
      "0     Café     120         3           360\n",
      "1       Té      80         5           400\n",
      "2     Jugo      90         2           180\n",
      "3     Agua      60         8           480\n",
      "  Producto  Precio  Cantidad  Total Ventas  Descuento\n",
      "0     Café     120         3           360       12.0\n",
      "1       Té      80         5           400        4.0\n",
      "2     Jugo      90         2           180        4.5\n",
      "3     Agua      60         8           480        3.0\n"
     ]
    }
   ],
   "source": [
    "#Ejercicio 3: Aplicar funciones a las columnas\n",
    "\n",
    "data_ventas = {\n",
    "    'Producto': ['Café', 'Té', 'Jugo', 'Agua'],\n",
    "    'Precio': [120, 80, 90, 60],\n",
    "    'Cantidad': [3, 5, 2, 8]\n",
    "}\n",
    "\n",
    "df_ventas = pd.DataFrame(data_ventas)\n",
    "\n",
    "#Calcula el total de ventas (Precio * Cantidad) y agrégalo como una nueva columna.\n",
    "df_ventas['Total Ventas'] = df_ventas['Precio'] * df_ventas['Cantidad']\n",
    "print(df_ventas)\n",
    "\n",
    "#Crea una nueva columna llamada Descuento que aplique un descuento del 10% si el precio es mayor a 100, y del 5% si es menor o igual a 100. Usa la función apply y una función lambda.\n",
    "df_ventas['Descuento'] = df_ventas['Precio'].apply(lambda x: x * 0.10 if x > 100 else x * 0.05)\n",
    "\n",
    "# Imprimir el DataFrame actualizado\n",
    "print(df_ventas)"
   ]
  },
  {
   "cell_type": "code",
   "execution_count": 36,
   "metadata": {},
   "outputs": [
    {
     "name": "stdout",
     "output_type": "stream",
     "text": [
      "       Cliente           Dirección\n",
      "0   Juan Pérez     calle falsa 123\n",
      "1     Ana Ruiz  calle principal 45\n",
      "2  Pedro López   av. los robles 34\n",
      "       Cliente              Dirección\n",
      "0   Juan Pérez        Calle falsa 123\n",
      "1     Ana Ruiz     Calle principal 45\n",
      "2  Pedro López  Avenida los robles 34\n",
      "       Cliente              Dirección Número\n",
      "0   Juan Pérez        Calle falsa 123    123\n",
      "1     Ana Ruiz     Calle principal 45     45\n",
      "2  Pedro López  Avenida los robles 34     34\n"
     ]
    },
    {
     "name": "stderr",
     "output_type": "stream",
     "text": [
      "<>:24: SyntaxWarning: invalid escape sequence '\\d'\n",
      "<>:24: SyntaxWarning: invalid escape sequence '\\d'\n",
      "C:\\Users\\ine\\AppData\\Local\\Temp\\ipykernel_23232\\2458120595.py:24: SyntaxWarning: invalid escape sequence '\\d'\n",
      "  df_clientes['Número'] = df_clientes['Dirección'].str.extract('(\\d+)')\n"
     ]
    }
   ],
   "source": [
    "#Ejercicio 4: Uso de funciones de cadena\n",
    "\n",
    "data_clientes = {\n",
    "    'Cliente': ['Juan Pérez', 'Ana Ruiz', 'Pedro López'],\n",
    "    'Dirección': ['calle falsa 123', 'Calle PRINCIPAL 45', 'AV. LOS robles 34']\n",
    "}\n",
    "\n",
    "df_clientes = pd.DataFrame(data_clientes)\n",
    "\n",
    "#Convierte todos los valores de la columna Dirección a minúsculas.\n",
    "\n",
    "df_clientes['Dirección'] = df_clientes['Dirección'].str.lower()\n",
    "print(df_clientes)\n",
    "\n",
    "#Reemplaza las abreviaturas \"calle\", \"av.\" por \"calle\" y \"avenida\" respectivamente.\n",
    "df_clientes['Dirección'] = df_clientes['Dirección'].str.replace('av.', 'Avenida', regex=False)\n",
    "df_clientes['Dirección'] = df_clientes['Dirección'].str.replace('calle', 'Calle', regex=False)\n",
    "\n",
    "# Imprimir el DataFrame actualizado\n",
    "print(df_clientes)\n",
    "\n",
    "#Extrae el número de la dirección y guárdalo en una nueva columna llamada Número.\n",
    "\n",
    "df_clientes['Número'] = df_clientes['Dirección'].str.extract('(\\d+)')\n",
    "print(df_clientes)"
   ]
  }
 ],
 "metadata": {
  "kernelspec": {
   "display_name": "new_entorno",
   "language": "python",
   "name": "python3"
  },
  "language_info": {
   "codemirror_mode": {
    "name": "ipython",
    "version": 3
   },
   "file_extension": ".py",
   "mimetype": "text/x-python",
   "name": "python",
   "nbconvert_exporter": "python",
   "pygments_lexer": "ipython3",
   "version": "3.12.6"
  }
 },
 "nbformat": 4,
 "nbformat_minor": 2
}
