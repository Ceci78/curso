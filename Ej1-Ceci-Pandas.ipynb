{
 "cells": [
  {
   "cell_type": "code",
   "execution_count": 2,
   "metadata": {},
   "outputs": [
    {
     "name": "stdout",
     "output_type": "stream",
     "text": [
      "lunes        100\n",
      "Martes       150\n",
      "Miercoles    200\n",
      "Jueves        50\n",
      "Viernes      300\n",
      "dtype: int64\n"
     ]
    }
   ],
   "source": [
    "#Ejercicio 1: Creación y manipulación de Series\n",
    "#Crea una Serie que contenga las ventas de una tienda de lunes a viernes. Utiliza las siguientes cantidades:\n",
    "\n",
    "import pandas as pd\n",
    "\n",
    "# Crear una Serie a partir de una lista\n",
    "C_serie = pd.Series({'lunes': 100, 'Martes': 150, 'Miercoles': 200, 'Jueves': 50, 'Viernes': 300})\n",
    "print(C_serie)"
   ]
  },
  {
   "cell_type": "code",
   "execution_count": 4,
   "metadata": {},
   "outputs": [
    {
     "name": "stdout",
     "output_type": "stream",
     "text": [
      "200\n",
      "200\n"
     ]
    },
    {
     "name": "stderr",
     "output_type": "stream",
     "text": [
      "C:\\Users\\ine\\AppData\\Local\\Temp\\ipykernel_10388\\3592223497.py:7: FutureWarning: Series.__getitem__ treating keys as positions is deprecated. In a future version, integer keys will always be treated as labels (consistent with DataFrame behavior). To access a value by position, use `ser.iloc[pos]`\n",
      "  print(C_serie[2])\n"
     ]
    }
   ],
   "source": [
    "#Accede al valor de las ventas del miércoles.\n",
    "\n",
    "# Acceder por índice\n",
    "print(C_serie['Miercoles'])\n",
    "\n",
    "# Acceder por posición\n",
    "print(C_serie[2])\n",
    "\n"
   ]
  },
  {
   "cell_type": "code",
   "execution_count": 6,
   "metadata": {},
   "outputs": [
    {
     "name": "stdout",
     "output_type": "stream",
     "text": [
      "800\n",
      "Martes       150\n",
      "Miercoles    200\n",
      "Viernes      300\n",
      "dtype: int64\n"
     ]
    }
   ],
   "source": [
    "#Calcula el total de ventas de la semana.\n",
    "#Filtra los días donde las ventas fueron mayores a 100.\n",
    "\n",
    "# Calcular la suma\n",
    "print(C_serie.sum())\n",
    "\n",
    "print(C_serie[C_serie > 100])\n"
   ]
  },
  {
   "cell_type": "code",
   "execution_count": 10,
   "metadata": {},
   "outputs": [
    {
     "name": "stdout",
     "output_type": "stream",
     "text": [
      "  Nombre  Edad\n",
      "0    Ana    23\n",
      "1   Luis    35\n",
      "2  María    29\n",
      "0      Ana\n",
      "1     Luis\n",
      "2    María\n",
      "Name: Nombre, dtype: object\n",
      "  Nombre  Edad\n",
      "1   Luis    35\n",
      "2  María    29\n",
      "  Nombre  Edad  Salario\n",
      "0    Ana    23    30000\n",
      "1   Luis    35    45000\n",
      "2  María    29    35000\n"
     ]
    }
   ],
   "source": [
    "#2: Creación y análisis de un DataFrame\n",
    "#Crea un DataFrame que contenga los nombres y edades de las siguientes persona\n",
    "\n",
    "data = {'Nombre': ['Ana', 'Luis', 'María'], 'Edad': [23, 35, 29]}\n",
    "df = pd.DataFrame(data)\n",
    "print(df)\n",
    "\n",
    "#Accede a la columna de los nombres.\n",
    "# Seleccionar una columna\n",
    "print(df['Nombre'])\n",
    "\n",
    "#Filtra las filas donde la edad sea mayor a 25.\n",
    "print(df[df['Edad'] > 25])\n",
    "\n",
    "#Agrega una nueva columna con los salarios de las personas (Ana: 30000, Luis: 45000, María: 35000)\n",
    "df['Salario'] = [30000, 45000, 35000]\n",
    "print(df)\n"
   ]
  },
  {
   "cell_type": "code",
   "execution_count": 15,
   "metadata": {},
   "outputs": [
    {
     "name": "stdout",
     "output_type": "stream",
     "text": [
      "  Producto  Ventas  Precio\n",
      "0   Laptop      30    1000\n",
      "1    Mouse     120      50\n",
      "2  Teclado      75      80\n",
      "  Producto  Ventas  Precio  Venta Total\n",
      "0   Laptop      30    1000        30000\n",
      "1    Mouse     120      50         6000\n",
      "2  Teclado      75      80         6000\n",
      "La suma total de las ventas es: 42000\n"
     ]
    }
   ],
   "source": [
    "#Ejercicio 3: Cálculos con DataFrames\n",
    "#Crea un DataFrame con información de ventas de productos en una tienda:\n",
    "\n",
    "tienda = {'Producto': ['Laptop', 'Mouse', 'Teclado'], 'Ventas': [30, 120, 75] , 'Precio': [1000, 50, 80]}\n",
    "df_tienda = pd.DataFrame(tienda)\n",
    "print(df_tienda)\n",
    "\n",
    "#La venta total para cada producto (multiplicando el precio por unidad por las ventas)\n",
    "\n",
    "# Calcular la venta total para cada producto\n",
    "df_tienda['Venta Total'] = df_tienda['Ventas'] * df_tienda['Precio']\n",
    "print(df_tienda)\n",
    "\n",
    "#El total de ingresos para todos los productos\n",
    "suma_venta_total = df_tienda['Venta Total'].sum()\n",
    "print(f\"La suma total de las ventas es: {suma_venta_total}\")\n",
    "\n"
   ]
  },
  {
   "cell_type": "code",
   "execution_count": 34,
   "metadata": {},
   "outputs": [
    {
     "name": "stdout",
     "output_type": "stream",
     "text": [
      "  Estudiante  Matematicas  Ciencia  Historia\n",
      "0        Ana           90       88        75\n",
      "1       Luis           85       92         0\n",
      "2      Maria            0       85        80\n",
      "3     Carlos           78        0        90\n",
      "El promedio de la columna Matemáticas es: 63.25\n",
      "El promedio de la columna ciencia es: 66.25\n",
      "El promedio de la columna Historia es: 61.25\n",
      "       Matematicas  Ciencia  Historia\n",
      "count          4.0      4.0       4.0\n",
      "mean          63.0     66.0      61.0\n",
      "std           42.0     44.0      41.0\n",
      "min            0.0      0.0       0.0\n",
      "25%           58.0     64.0      56.0\n",
      "50%           82.0     86.0      78.0\n",
      "75%           86.0     89.0      82.0\n",
      "max           90.0     92.0      90.0\n",
      "  Estudiante  Math  Science  History\n",
      "0        Ana    90       88       75\n",
      "1       Luis    85       92       61\n",
      "2      Maria    63       85       80\n",
      "3     Carlos    78       66       90\n",
      "  Estudiante  Math  Science  History   Promedio\n",
      "0        Ana    90       88       75  84.333333\n",
      "1       Luis    85       92       61  79.333333\n",
      "2      Maria    63       85       80  76.000000\n",
      "3     Carlos    78       66       90  78.000000\n"
     ]
    }
   ],
   "source": [
    "#Ejercicio 4: Transformación y limpieza de datos en DataFrames\n",
    "#Crea un DataFrame con información de estudiantes y sus calificaciones en tres materias:\n",
    "#Nota Ceci: tomé el none cómo cero y no cómo missing\n",
    "\n",
    "Calificaciones = {'Estudiante': ['Ana', 'Luis', 'Maria', 'Carlos'], 'Matematicas': [90, 85, 0, 78] , 'Ciencia': [88, 92, 85, 0], 'Historia': [75, 0, 80, 90]}\n",
    "df_cal = pd.DataFrame(Calificaciones)\n",
    "print(df_cal)\n",
    "\n",
    "#Rellena los valores faltantes con la media de cada columna.\n",
    "promedio_matematicas = df_cal['Matematicas'].mean()\n",
    "print(f\"El promedio de la columna Matemáticas es: {promedio_matematicas}\")\n",
    "\n",
    "promedio_ciencia = df_cal['Ciencia'].mean()\n",
    "print(f\"El promedio de la columna ciencia es: {promedio_ciencia}\")\n",
    "\n",
    "promedio_historia = df_cal['Historia'].mean()\n",
    "print(f\"El promedio de la columna Historia es: {promedio_historia}\")\n",
    "\n",
    "print(df_cal.describe().round())\n",
    "\n",
    "#replazar ceros\n",
    "\n",
    "df_cal['Matematicas'] = df_cal['Matematicas'].replace(0, 63)\n",
    "\n",
    "df_cal['Ciencia'] = df_cal['Ciencia'].replace(0, 66)\n",
    "\n",
    "df_cal['Historia'] = df_cal['Historia'].replace(0, 61) \n",
    "\n",
    "#Renombra las columnas de las materias en inglés (Math, Science, History).\n",
    "\n",
    "df_cal.rename(columns={'Matematicas': 'Math', 'Ciencia': 'Science', 'Historia': 'History'}, inplace=True)\n",
    "print(df_cal)\n",
    "\n",
    "# Calcular el promedio total de cada estudiante (promedio de las tres columnas por fila)\n",
    "df_cal['Promedio'] = df_cal[['Math', 'Science', 'History']].mean(axis=1)\n",
    "print(df_cal)\n"
   ]
  }
 ],
 "metadata": {
  "kernelspec": {
   "display_name": "new_entorno",
   "language": "python",
   "name": "python3"
  },
  "language_info": {
   "codemirror_mode": {
    "name": "ipython",
    "version": 3
   },
   "file_extension": ".py",
   "mimetype": "text/x-python",
   "name": "python",
   "nbconvert_exporter": "python",
   "pygments_lexer": "ipython3",
   "version": "3.12.6"
  }
 },
 "nbformat": 4,
 "nbformat_minor": 2
}
