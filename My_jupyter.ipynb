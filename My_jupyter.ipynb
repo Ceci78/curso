{
 "cells": [
  {
   "cell_type": "code",
   "execution_count": 2,
   "metadata": {},
   "outputs": [
    {
     "name": "stdout",
     "output_type": "stream",
     "text": [
      "200\n"
     ]
    }
   ],
   "source": [
    "import requests\n",
    "\n",
    "# Realizar una solicitud GET a una API pública\n",
    "respuesta = requests.get('https://api.github.com')\n",
    "\n",
    "# Imprimir el código de estado de la respuesta, si es 200 significa que la respuesta fue correcta\n",
    "print(respuesta.status_code)"
   ]
  }
 ],
 "metadata": {
  "kernelspec": {
   "display_name": "new_entorno",
   "language": "python",
   "name": "python3"
  },
  "language_info": {
   "codemirror_mode": {
    "name": "ipython",
    "version": 3
   },
   "file_extension": ".py",
   "mimetype": "text/x-python",
   "name": "python",
   "nbconvert_exporter": "python",
   "pygments_lexer": "ipython3",
   "version": "3.12.6"
  }
 },
 "nbformat": 4,
 "nbformat_minor": 2
}
